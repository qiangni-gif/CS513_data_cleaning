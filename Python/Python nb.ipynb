{
 "cells": [
  {
   "cell_type": "markdown",
   "metadata": {},
   "source": [
    "## CS513 Data Cleansining"
   ]
  },
  {
   "cell_type": "code",
   "execution_count": 1,
   "metadata": {},
   "outputs": [
    {
     "name": "stderr",
     "output_type": "stream",
     "text": [
      "c:\\Users\\junyang\\AppData\\Local\\Programs\\Python\\Python39\\lib\\site-packages\\fuzzywuzzy\\fuzz.py:11: UserWarning: Using slow pure-python SequenceMatcher. Install python-Levenshtein to remove this warning\n",
      "  warnings.warn('Using slow pure-python SequenceMatcher. Install python-Levenshtein to remove this warning')\n",
      "c:\\Users\\junyang\\AppData\\Local\\Programs\\Python\\Python39\\lib\\site-packages\\openpyxl\\styles\\stylesheet.py:226: UserWarning: Workbook contains no default style, apply openpyxl's default\n",
      "  warn(\"Workbook contains no default style, apply openpyxl's default\")\n"
     ]
    },
    {
     "data": {
      "text/html": [
       "<div>\n",
       "<style scoped>\n",
       "    .dataframe tbody tr th:only-of-type {\n",
       "        vertical-align: middle;\n",
       "    }\n",
       "\n",
       "    .dataframe tbody tr th {\n",
       "        vertical-align: top;\n",
       "    }\n",
       "\n",
       "    .dataframe thead th {\n",
       "        text-align: right;\n",
       "    }\n",
       "</style>\n",
       "<table border=\"1\" class=\"dataframe\">\n",
       "  <thead>\n",
       "    <tr style=\"text-align: right;\">\n",
       "      <th></th>\n",
       "      <th>Inspection ID</th>\n",
       "      <th>DBA Name</th>\n",
       "      <th>AKA Name</th>\n",
       "      <th>License #</th>\n",
       "      <th>Facility Type</th>\n",
       "      <th>Risk</th>\n",
       "      <th>Address</th>\n",
       "      <th>City</th>\n",
       "      <th>State</th>\n",
       "      <th>Zip</th>\n",
       "      <th>Inspection Date</th>\n",
       "      <th>Inspection Type</th>\n",
       "      <th>Results</th>\n",
       "      <th>Violations</th>\n",
       "      <th>Latitude</th>\n",
       "      <th>Longitude</th>\n",
       "    </tr>\n",
       "  </thead>\n",
       "  <tbody>\n",
       "    <tr>\n",
       "      <th>0</th>\n",
       "      <td>2079132.0</td>\n",
       "      <td>MARRIOT MARQUIS CHICAGO</td>\n",
       "      <td>MARRIOT MARQUIS CHICAGO</td>\n",
       "      <td>2517328.0</td>\n",
       "      <td>Restaurant</td>\n",
       "      <td>Risk 1 (High)</td>\n",
       "      <td>2121 S PRAIRIE AVE</td>\n",
       "      <td>CHICAGO</td>\n",
       "      <td>IL</td>\n",
       "      <td>60616.0</td>\n",
       "      <td>2017-08-28</td>\n",
       "      <td>License</td>\n",
       "      <td>Pass</td>\n",
       "      <td>NaN</td>\n",
       "      <td>41.853651</td>\n",
       "      <td>-87.620534</td>\n",
       "    </tr>\n",
       "    <tr>\n",
       "      <th>1</th>\n",
       "      <td>2079129.0</td>\n",
       "      <td>JET'S PIZZA</td>\n",
       "      <td>JET'S PIZZA</td>\n",
       "      <td>2522268.0</td>\n",
       "      <td>Restaurant</td>\n",
       "      <td>Risk 2 (Medium)</td>\n",
       "      <td>1025 W MADISON ST</td>\n",
       "      <td>CHICAGO</td>\n",
       "      <td>IL</td>\n",
       "      <td>60607.0</td>\n",
       "      <td>2017-08-28</td>\n",
       "      <td>License</td>\n",
       "      <td>Not Ready</td>\n",
       "      <td>NaN</td>\n",
       "      <td>41.881572</td>\n",
       "      <td>-87.653052</td>\n",
       "    </tr>\n",
       "    <tr>\n",
       "      <th>2</th>\n",
       "      <td>2079125.0</td>\n",
       "      <td>ROOM 1520</td>\n",
       "      <td>ROOM 1520</td>\n",
       "      <td>2446638.0</td>\n",
       "      <td>Special Event</td>\n",
       "      <td>Risk 3 (Low)</td>\n",
       "      <td>301 N JUSTINE ST</td>\n",
       "      <td>CHICAGO</td>\n",
       "      <td>IL</td>\n",
       "      <td>60607.0</td>\n",
       "      <td>2017-08-28</td>\n",
       "      <td>License Re-inspection</td>\n",
       "      <td>Not Ready</td>\n",
       "      <td>8. SANITIZING RINSE FOR EQUIPMENT AND UTENSILS...</td>\n",
       "      <td>41.886577</td>\n",
       "      <td>-87.665328</td>\n",
       "    </tr>\n",
       "    <tr>\n",
       "      <th>3</th>\n",
       "      <td>2079123.0</td>\n",
       "      <td>MARRIOT MARQUIS CHICAGO</td>\n",
       "      <td>MARRIOT MARQUIS CHICAGO</td>\n",
       "      <td>2517338.0</td>\n",
       "      <td>Restaurant</td>\n",
       "      <td>Risk 1 (High)</td>\n",
       "      <td>2121 S PRAIRIE AVE</td>\n",
       "      <td>CHICAGO</td>\n",
       "      <td>IL</td>\n",
       "      <td>60616.0</td>\n",
       "      <td>2017-08-28</td>\n",
       "      <td>License</td>\n",
       "      <td>Pass</td>\n",
       "      <td>35. WALLS, CEILINGS, ATTACHED EQUIPMENT CONSTR...</td>\n",
       "      <td>41.853651</td>\n",
       "      <td>-87.620534</td>\n",
       "    </tr>\n",
       "    <tr>\n",
       "      <th>4</th>\n",
       "      <td>2079105.0</td>\n",
       "      <td>CHARTWELLS</td>\n",
       "      <td>CICS WEST BELDEN CAMPUS</td>\n",
       "      <td>2549079.0</td>\n",
       "      <td>Charter School</td>\n",
       "      <td>Risk 1 (High)</td>\n",
       "      <td>2245 N MCVICKER AVE</td>\n",
       "      <td>CHICAGO</td>\n",
       "      <td>IL</td>\n",
       "      <td>60639.0</td>\n",
       "      <td>2017-08-28</td>\n",
       "      <td>License Re-inspection</td>\n",
       "      <td>Pass</td>\n",
       "      <td>18. NO EVIDENCE OF RODENT OR INSECT OUTER OPEN...</td>\n",
       "      <td>41.921675</td>\n",
       "      <td>-87.776711</td>\n",
       "    </tr>\n",
       "  </tbody>\n",
       "</table>\n",
       "</div>"
      ],
      "text/plain": [
       "   Inspection ID                 DBA Name                 AKA Name  License #  \\\n",
       "0      2079132.0  MARRIOT MARQUIS CHICAGO  MARRIOT MARQUIS CHICAGO  2517328.0   \n",
       "1      2079129.0              JET'S PIZZA              JET'S PIZZA  2522268.0   \n",
       "2      2079125.0                ROOM 1520                ROOM 1520  2446638.0   \n",
       "3      2079123.0  MARRIOT MARQUIS CHICAGO  MARRIOT MARQUIS CHICAGO  2517338.0   \n",
       "4      2079105.0               CHARTWELLS  CICS WEST BELDEN CAMPUS  2549079.0   \n",
       "\n",
       "    Facility Type             Risk              Address     City State  \\\n",
       "0      Restaurant    Risk 1 (High)   2121 S PRAIRIE AVE  CHICAGO    IL   \n",
       "1      Restaurant  Risk 2 (Medium)    1025 W MADISON ST  CHICAGO    IL   \n",
       "2   Special Event     Risk 3 (Low)     301 N JUSTINE ST  CHICAGO    IL   \n",
       "3      Restaurant    Risk 1 (High)   2121 S PRAIRIE AVE  CHICAGO    IL   \n",
       "4  Charter School    Risk 1 (High)  2245 N MCVICKER AVE  CHICAGO    IL   \n",
       "\n",
       "       Zip Inspection Date        Inspection Type    Results  \\\n",
       "0  60616.0      2017-08-28                License       Pass   \n",
       "1  60607.0      2017-08-28                License  Not Ready   \n",
       "2  60607.0      2017-08-28  License Re-inspection  Not Ready   \n",
       "3  60616.0      2017-08-28                License       Pass   \n",
       "4  60639.0      2017-08-28  License Re-inspection       Pass   \n",
       "\n",
       "                                          Violations   Latitude  Longitude  \n",
       "0                                                NaN  41.853651 -87.620534  \n",
       "1                                                NaN  41.881572 -87.653052  \n",
       "2  8. SANITIZING RINSE FOR EQUIPMENT AND UTENSILS...  41.886577 -87.665328  \n",
       "3  35. WALLS, CEILINGS, ATTACHED EQUIPMENT CONSTR...  41.853651 -87.620534  \n",
       "4  18. NO EVIDENCE OF RODENT OR INSECT OUTER OPEN...  41.921675 -87.776711  "
      ]
     },
     "execution_count": 1,
     "metadata": {},
     "output_type": "execute_result"
    }
   ],
   "source": [
    "import pandas as pd\n",
    "import numpy as np\n",
    "from uszipcode import SearchEngine\n",
    "# read the data\n",
    "df = pd.read_excel('../Datasets/Food_Inspections_OpenRefine_cleaned.xlsx')\n",
    "# display the dataframe head\n",
    "df.head()"
   ]
  },
  {
   "cell_type": "markdown",
   "metadata": {},
   "source": [
    "### count of null values in each column"
   ]
  },
  {
   "cell_type": "code",
   "execution_count": 2,
   "metadata": {},
   "outputs": [
    {
     "name": "stdout",
     "output_type": "stream",
     "text": [
      "Inspection ID          0\n",
      "DBA Name               0\n",
      "AKA Name            2487\n",
      "License #              0\n",
      "Facility Type       4508\n",
      "Risk                   0\n",
      "Address                1\n",
      "City                  64\n",
      "State                  8\n",
      "Zip                    0\n",
      "Inspection Date        0\n",
      "Inspection Type        0\n",
      "Results                0\n",
      "Violations         30686\n",
      "Latitude             533\n",
      "Longitude            533\n",
      "dtype: int64\n"
     ]
    }
   ],
   "source": [
    "print(df.isnull().sum())\n",
    "# print(df.info())"
   ]
  },
  {
   "cell_type": "code",
   "execution_count": 3,
   "metadata": {},
   "outputs": [],
   "source": [
    "# (df.isnull().sum() * 100 / df.index.size).round(2)\n",
    "# print(df['City'].unique())\n",
    "# df['License #'].apply(float.is_integer).all()\n",
    "# df_num = df.select_dtypes(include=[float])"
   ]
  },
  {
   "cell_type": "code",
   "execution_count": 4,
   "metadata": {},
   "outputs": [],
   "source": [
    "search = SearchEngine()\n",
    "\n",
    "def getLocationByZipCode(zipcode):\n",
    "    Location = search.by_zipcode(zipcode=zipcode)\n",
    "    return Location\n",
    "# print(getLocationByZipCode(60616))\n",
    "# print(getLocationByZipCode(60616).lat)"
   ]
  },
  {
   "cell_type": "markdown",
   "metadata": {},
   "source": [
    "#### find missing Latitude, Longitiude, City and State from dataset"
   ]
  },
  {
   "cell_type": "code",
   "execution_count": 5,
   "metadata": {},
   "outputs": [],
   "source": [
    "missing_GPS = df.loc[pd.isnull(df['Latitude']) | pd.isnull(df['Longitude'])]\n",
    "missing_city = df.loc[(df['City'].str.contains(r'[0-9]', na=False) | pd.isnull(df['City'])) & pd.notnull(df['Zip'])]\n",
    "missing_state = df.loc[(df['State'].str.contains(r'[0-9]', na=False) | pd.isnull(df['State'])) & pd.notnull(df['Zip'])]\n",
    "# print(missing_GPS.head().Latitude)\n",
    "# print(missing_city.head().City)\n",
    "# print(missing_state.head().State)"
   ]
  },
  {
   "cell_type": "markdown",
   "metadata": {},
   "source": [
    "### fille the missing value by zip code SearchEngine"
   ]
  },
  {
   "cell_type": "code",
   "execution_count": 6,
   "metadata": {},
   "outputs": [],
   "source": [
    "for row in missing_GPS.iterrows():\n",
    "    index = row[0]\n",
    "    zip = int(row[1].Zip)\n",
    "    location = getLocationByZipCode(zip)\n",
    "    df.iloc[index, df.columns.get_loc('Latitude')] = location.lat\n",
    "    df.iloc[index, df.columns.get_loc('Longitude')] = location.lng\n",
    "    #print(f'index: {index}  Zip: {zip} --> Latitude: {location.lat} Longitude: {location.lng}')"
   ]
  },
  {
   "cell_type": "code",
   "execution_count": 7,
   "metadata": {},
   "outputs": [],
   "source": [
    "for row in missing_city.iterrows():\n",
    "    index = row[0]\n",
    "    zip = int(row[1].Zip)\n",
    "    location = getLocationByZipCode(zip)\n",
    "    df.iloc[index, df.columns.get_loc('City')] = location.major_city\n",
    "    #print(f'index: {index}  Zip: {zip} --> City: {location.major_city}')"
   ]
  },
  {
   "cell_type": "code",
   "execution_count": 8,
   "metadata": {},
   "outputs": [],
   "source": [
    "for row in missing_state.iterrows():\n",
    "    index = row[0]\n",
    "    zip = int(row[1].Zip)\n",
    "    location = getLocationByZipCode(zip)\n",
    "    df.iloc[index, df.columns.get_loc('State')] = location.state\n",
    "    #print(f'index: {index}  Zip: {zip} --> state: {location.state}')"
   ]
  },
  {
   "cell_type": "markdown",
   "metadata": {},
   "source": [
    "### count of null values in each column again"
   ]
  },
  {
   "cell_type": "code",
   "execution_count": 9,
   "metadata": {},
   "outputs": [
    {
     "name": "stdout",
     "output_type": "stream",
     "text": [
      "Inspection ID          0\n",
      "DBA Name               0\n",
      "AKA Name            2487\n",
      "License #              0\n",
      "Facility Type       4508\n",
      "Risk                   0\n",
      "Address                1\n",
      "City                   0\n",
      "State                  0\n",
      "Zip                    0\n",
      "Inspection Date        0\n",
      "Inspection Type        0\n",
      "Results                0\n",
      "Violations         30686\n",
      "Latitude               0\n",
      "Longitude              0\n",
      "dtype: int64\n"
     ]
    },
    {
     "data": {
      "text/plain": [
       "Inspection ID       0.00\n",
       "DBA Name            0.00\n",
       "AKA Name            1.62\n",
       "License #           0.00\n",
       "Facility Type       2.93\n",
       "Risk                0.00\n",
       "Address             0.00\n",
       "City                0.00\n",
       "State               0.00\n",
       "Zip                 0.00\n",
       "Inspection Date     0.00\n",
       "Inspection Type     0.00\n",
       "Results             0.00\n",
       "Violations         19.97\n",
       "Latitude            0.00\n",
       "Longitude           0.00\n",
       "dtype: float64"
      ]
     },
     "execution_count": 9,
     "metadata": {},
     "output_type": "execute_result"
    }
   ],
   "source": [
    "print(df.isnull().sum())\n",
    "(df.isnull().sum() * 100 / df.index.size).round(2)"
   ]
  },
  {
   "cell_type": "markdown",
   "metadata": {},
   "source": [
    "### Loop through violations column to find all the unique violations codes (46 total)."
   ]
  },
  {
   "cell_type": "code",
   "execution_count": 10,
   "metadata": {},
   "outputs": [
    {
     "name": "stdout",
     "output_type": "stream",
     "text": [
      "{'17. POTENTIALLY HAZARDOUS FOOD PROPERLY THAWED', '7. WASH AND RINSE WATER: CLEAN AND PROPER TEMPERATURE', '44. ONLY AUTHORIZED PERSONNEL IN THE FOOD-PREP AREA', '5. PERSONNEL WITH INFECTIONS RESTRICTED: NO OPEN SORES, WOUNDS, ETC', '10. SEWAGE AND WASTE WATER DISPOSAL, NO BACK SIPHONAGE, CROSS  CONNECTION AND/OR BACK FLOW', '70. NO SMOKING REGULATIONS', '18. NO EVIDENCE OF RODENT OR INSECT OUTER OPENINGS PROTECTED/RODENT PROOFED, A WRITTEN LOG SHALL BE MAINTAINED AVAILABLE TO THE INSPECTORS', '33. FOOD AND NON-FOOD CONTACT EQUIPMENT UTENSILS CLEAN, FREE OF ABRASIVE DETERGENTS', '8. SANITIZING RINSE FOR EQUIPMENT AND UTENSILS:  CLEAN, PROPER TEMPERATURE, CONCENTRATION, EXPOSURE TIME', '34. FLOORS: CONSTRUCTED PER CODE, CLEANED, GOOD REPAIR, COVING INSTALLED, DUST-LESS CLEANING METHODS USED', '31. CLEAN MULTI-USE UTENSILS AND SINGLE SERVICE ARTICLES PROPERLY STORED: NO REUSE OF SINGLE SERVICE ARTICLES', '23. DISHES AND UTENSILS FLUSHED, SCRAPED, SOAKED', '29. PREVIOUS MINOR VIOLATION(S) CORRECTED 7-42-090', '11. ADEQUATE NUMBER, CONVENIENT, ACCESSIBLE, DESIGNED, AND MAINTAINED', '20. INSIDE CONTAINERS OR RECEPTACLES: ADEQUATE NUMBER, PROPERLY COVERED AND INSECT/RODENT PROOF', '40. REFRIGERATION AND METAL STEM THERMOMETERS PROVIDED AND CONSPICUOUS', '26. ADEQUATE NUMBER, CONVENIENT, ACCESSIBLE, PROPERLY DESIGNED AND INSTALLED', '32. FOOD AND NON-FOOD CONTACT SURFACES PROPERLY DESIGNED, CONSTRUCTED AND MAINTAINED', '28. * INSPECTION REPORT SUMMARY DISPLAYED AND VISIBLE TO ALL CUSTOMERS', '4. SOURCE OF CROSS CONTAMINATION CONTROLLED I.E. CUTTING BOARDS, FOOD  HANDLERS, UTENSILS, ETC', '35. WALLS, CEILINGS, ATTACHED EQUIPMENT CONSTRUCTED PER CODE: GOOD REPAIR, SURFACES CLEAN AND DUST-LESS CLEANING METHODS', '30. FOOD IN ORIGINAL CONTAINER, PROPERLY LABELED: CUSTOMER ADVISORY POSTED AS NEEDED', '12. HAND WASHING FACILITIES: WITH SOAP AND SANITARY HAND DRYING DEVICES, CONVENIENT AND ACCESSIBLE TO FOOD PREP AREA', '36. LIGHTING: REQUIRED MINIMUM FOOT-CANDLES OF LIGHT PROVIDED, FIXTURES SHIELDED', '13. NO EVIDENCE OF RODENT OR INSECT INFESTATION, NO BIRDS, TURTLES OR OTHER ANIMALS', '24. DISH WASHING FACILITIES: PROPERLY DESIGNED, CONSTRUCTED, MAINTAINED, INSTALLED, LOCATED AND OPERATED', '16. FOOD PROTECTED DURING STORAGE, PREPARATION, DISPLAY, SERVICE AND TRANSPORTATION', '15. UNWRAPPED AND POTENTIALLY HAZARDOUS FOOD NOT RE-SERVED', '27. TOILET ROOMS ENCLOSED CLEAN, PROVIDED WITH HAND CLEANSER, SANITARY HAND DRYING DEVICES AND PROPER WASTE RECEPTACLES', '39. LINEN: CLEAN AND SOILED PROPERLY STORED', '45. FOOD HANDLER REQUIREMENTS MET', '9. WATER SOURCE: SAFE, HOT & COLD UNDER CITY PRESSURE', '19. OUTSIDE GARBAGE WASTE GREASE AND STORAGE AREA; CLEAN, RODENT PROOF, ALL CONTAINERS COVERED', '41. PREMISES MAINTAINED FREE OF LITTER, UNNECESSARY ARTICLES, CLEANING  EQUIPMENT PROPERLY STORED', '22. DISH MACHINES: PROVIDED WITH ACCURATE THERMOMETERS, CHEMICAL TEST KITS AND SUITABLE GAUGE COCK', '37. TOILET ROOM DOORS SELF CLOSING: DRESSING ROOMS WITH LOCKERS PROVIDED: COMPLETE SEPARATION FROM LIVING/SLEEPING QUARTERS', '2. FACILITIES TO MAINTAIN PROPER TEMPERATURE', '1. SOURCE SOUND CONDITION, NO SPOILAGE, FOODS PROPERLY LABELED, SHELLFISH TAGS IN PLACE', '6. HANDS WASHED AND CLEANED, GOOD HYGIENIC PRACTICES; NO BARE HAND CONTACT WITH READY-TO-EAT FOODS.', '42. APPROPRIATE METHOD OF HANDLING OF FOOD (ICE) HAIR RESTRAINTS AND CLEAN APPAREL WORN', '43. FOOD (ICE) DISPENSING UTENSILS, WASH CLOTHS PROPERLY STORED', '21. * CERTIFIED FOOD MANAGER ON SITE WHEN POTENTIALLY HAZARDOUS FOODS ARE  PREPARED AND SERVED', '38. VENTILATION: ROOMS AND EQUIPMENT VENTED AS REQUIRED: PLUMBING: INSTALLED AND MAINTAINED', '14. PREVIOUS SERIOUS VIOLATION CORRECTED, 7-42-090', '25. TOXIC ITEMS PROPERLY STORED, LABELED AND USED', '3. POTENTIALLY HAZARDOUS FOOD MEETS TEMPERATURE REQUIREMENT DURING STORAGE, PREPARATION DISPLAY AND SERVICE'}\n"
     ]
    }
   ],
   "source": [
    "Violations_loc = df.loc[pd.notnull(df['Violations'])]\n",
    "Violation_set = set()\n",
    "violation_set_index = set()\n",
    "for row in Violations_loc.iterrows():\n",
    "    Violation_list = [x.strip() for x in row[1].Violations.split('|')]\n",
    "    for item in Violation_list:\n",
    "        Violation_set.add(item.split(' - Comments')[0])\n",
    "        violation_set_index.add(int(item.split(' - Comments')[0].split(\".\")[0]))\n",
    "#there are 46 unique Violations code\n",
    "print(Violation_set)\n",
    "# print(sorted(violation_set_index))"
   ]
  },
  {
   "cell_type": "markdown",
   "metadata": {},
   "source": [
    "### creat new violation columns "
   ]
  },
  {
   "cell_type": "code",
   "execution_count": 11,
   "metadata": {},
   "outputs": [],
   "source": [
    "# creat new violation columns \n",
    "for x in violation_set_index:\n",
    "    # print(x.split(\".\")[0])\n",
    "    df['Violation ' + str(x)] = np.NaN"
   ]
  },
  {
   "cell_type": "markdown",
   "metadata": {},
   "source": [
    "### Loop through violations column again, split and add each violations code and comments to each new corresponding column  "
   ]
  },
  {
   "cell_type": "code",
   "execution_count": 12,
   "metadata": {},
   "outputs": [],
   "source": [
    "for row in Violations_loc.iterrows():\n",
    "    index = row[0]\n",
    "    Violation_list = [x.strip() for x in row[1].Violations.split('|')]\n",
    "    for item in Violation_list:\n",
    "        violation_index = item.split(' - Comments')[0].split(\".\")[0]\n",
    "        df.iloc[index, df.columns.get_loc('Violation ' + str(violation_index))] = item"
   ]
  },
  {
   "cell_type": "markdown",
   "metadata": {},
   "source": [
    "### Clean and remove the old violations column"
   ]
  },
  {
   "cell_type": "code",
   "execution_count": 13,
   "metadata": {},
   "outputs": [
    {
     "data": {
      "text/html": [
       "<div>\n",
       "<style scoped>\n",
       "    .dataframe tbody tr th:only-of-type {\n",
       "        vertical-align: middle;\n",
       "    }\n",
       "\n",
       "    .dataframe tbody tr th {\n",
       "        vertical-align: top;\n",
       "    }\n",
       "\n",
       "    .dataframe thead th {\n",
       "        text-align: right;\n",
       "    }\n",
       "</style>\n",
       "<table border=\"1\" class=\"dataframe\">\n",
       "  <thead>\n",
       "    <tr style=\"text-align: right;\">\n",
       "      <th></th>\n",
       "      <th>Inspection ID</th>\n",
       "      <th>DBA Name</th>\n",
       "      <th>AKA Name</th>\n",
       "      <th>License #</th>\n",
       "      <th>Facility Type</th>\n",
       "      <th>Risk</th>\n",
       "      <th>Address</th>\n",
       "      <th>City</th>\n",
       "      <th>State</th>\n",
       "      <th>Zip</th>\n",
       "      <th>...</th>\n",
       "      <th>Violation 37</th>\n",
       "      <th>Violation 38</th>\n",
       "      <th>Violation 39</th>\n",
       "      <th>Violation 40</th>\n",
       "      <th>Violation 41</th>\n",
       "      <th>Violation 42</th>\n",
       "      <th>Violation 43</th>\n",
       "      <th>Violation 44</th>\n",
       "      <th>Violation 45</th>\n",
       "      <th>Violation 70</th>\n",
       "    </tr>\n",
       "  </thead>\n",
       "  <tbody>\n",
       "    <tr>\n",
       "      <th>0</th>\n",
       "      <td>2079132.0</td>\n",
       "      <td>MARRIOT MARQUIS CHICAGO</td>\n",
       "      <td>MARRIOT MARQUIS CHICAGO</td>\n",
       "      <td>2517328.0</td>\n",
       "      <td>Restaurant</td>\n",
       "      <td>Risk 1 (High)</td>\n",
       "      <td>2121 S PRAIRIE AVE</td>\n",
       "      <td>CHICAGO</td>\n",
       "      <td>IL</td>\n",
       "      <td>60616.0</td>\n",
       "      <td>...</td>\n",
       "      <td>NaN</td>\n",
       "      <td>NaN</td>\n",
       "      <td>NaN</td>\n",
       "      <td>NaN</td>\n",
       "      <td>NaN</td>\n",
       "      <td>NaN</td>\n",
       "      <td>NaN</td>\n",
       "      <td>NaN</td>\n",
       "      <td>NaN</td>\n",
       "      <td>NaN</td>\n",
       "    </tr>\n",
       "    <tr>\n",
       "      <th>1</th>\n",
       "      <td>2079129.0</td>\n",
       "      <td>JET'S PIZZA</td>\n",
       "      <td>JET'S PIZZA</td>\n",
       "      <td>2522268.0</td>\n",
       "      <td>Restaurant</td>\n",
       "      <td>Risk 2 (Medium)</td>\n",
       "      <td>1025 W MADISON ST</td>\n",
       "      <td>CHICAGO</td>\n",
       "      <td>IL</td>\n",
       "      <td>60607.0</td>\n",
       "      <td>...</td>\n",
       "      <td>NaN</td>\n",
       "      <td>NaN</td>\n",
       "      <td>NaN</td>\n",
       "      <td>NaN</td>\n",
       "      <td>NaN</td>\n",
       "      <td>NaN</td>\n",
       "      <td>NaN</td>\n",
       "      <td>NaN</td>\n",
       "      <td>NaN</td>\n",
       "      <td>NaN</td>\n",
       "    </tr>\n",
       "    <tr>\n",
       "      <th>2</th>\n",
       "      <td>2079125.0</td>\n",
       "      <td>ROOM 1520</td>\n",
       "      <td>ROOM 1520</td>\n",
       "      <td>2446638.0</td>\n",
       "      <td>Special Event</td>\n",
       "      <td>Risk 3 (Low)</td>\n",
       "      <td>301 N JUSTINE ST</td>\n",
       "      <td>CHICAGO</td>\n",
       "      <td>IL</td>\n",
       "      <td>60607.0</td>\n",
       "      <td>...</td>\n",
       "      <td>NaN</td>\n",
       "      <td>NaN</td>\n",
       "      <td>NaN</td>\n",
       "      <td>NaN</td>\n",
       "      <td>NaN</td>\n",
       "      <td>NaN</td>\n",
       "      <td>NaN</td>\n",
       "      <td>NaN</td>\n",
       "      <td>NaN</td>\n",
       "      <td>NaN</td>\n",
       "    </tr>\n",
       "    <tr>\n",
       "      <th>3</th>\n",
       "      <td>2079123.0</td>\n",
       "      <td>MARRIOT MARQUIS CHICAGO</td>\n",
       "      <td>MARRIOT MARQUIS CHICAGO</td>\n",
       "      <td>2517338.0</td>\n",
       "      <td>Restaurant</td>\n",
       "      <td>Risk 1 (High)</td>\n",
       "      <td>2121 S PRAIRIE AVE</td>\n",
       "      <td>CHICAGO</td>\n",
       "      <td>IL</td>\n",
       "      <td>60616.0</td>\n",
       "      <td>...</td>\n",
       "      <td>NaN</td>\n",
       "      <td>NaN</td>\n",
       "      <td>NaN</td>\n",
       "      <td>NaN</td>\n",
       "      <td>NaN</td>\n",
       "      <td>NaN</td>\n",
       "      <td>NaN</td>\n",
       "      <td>NaN</td>\n",
       "      <td>NaN</td>\n",
       "      <td>NaN</td>\n",
       "    </tr>\n",
       "    <tr>\n",
       "      <th>4</th>\n",
       "      <td>2079105.0</td>\n",
       "      <td>CHARTWELLS</td>\n",
       "      <td>CICS WEST BELDEN CAMPUS</td>\n",
       "      <td>2549079.0</td>\n",
       "      <td>Charter School</td>\n",
       "      <td>Risk 1 (High)</td>\n",
       "      <td>2245 N MCVICKER AVE</td>\n",
       "      <td>CHICAGO</td>\n",
       "      <td>IL</td>\n",
       "      <td>60639.0</td>\n",
       "      <td>...</td>\n",
       "      <td>NaN</td>\n",
       "      <td>38. VENTILATION: ROOMS AND EQUIPMENT VENTED AS...</td>\n",
       "      <td>NaN</td>\n",
       "      <td>NaN</td>\n",
       "      <td>41. PREMISES MAINTAINED FREE OF LITTER, UNNECE...</td>\n",
       "      <td>NaN</td>\n",
       "      <td>NaN</td>\n",
       "      <td>NaN</td>\n",
       "      <td>NaN</td>\n",
       "      <td>NaN</td>\n",
       "    </tr>\n",
       "  </tbody>\n",
       "</table>\n",
       "<p>5 rows × 61 columns</p>\n",
       "</div>"
      ],
      "text/plain": [
       "   Inspection ID                 DBA Name                 AKA Name  License #  \\\n",
       "0      2079132.0  MARRIOT MARQUIS CHICAGO  MARRIOT MARQUIS CHICAGO  2517328.0   \n",
       "1      2079129.0              JET'S PIZZA              JET'S PIZZA  2522268.0   \n",
       "2      2079125.0                ROOM 1520                ROOM 1520  2446638.0   \n",
       "3      2079123.0  MARRIOT MARQUIS CHICAGO  MARRIOT MARQUIS CHICAGO  2517338.0   \n",
       "4      2079105.0               CHARTWELLS  CICS WEST BELDEN CAMPUS  2549079.0   \n",
       "\n",
       "    Facility Type             Risk              Address     City State  \\\n",
       "0      Restaurant    Risk 1 (High)   2121 S PRAIRIE AVE  CHICAGO    IL   \n",
       "1      Restaurant  Risk 2 (Medium)    1025 W MADISON ST  CHICAGO    IL   \n",
       "2   Special Event     Risk 3 (Low)     301 N JUSTINE ST  CHICAGO    IL   \n",
       "3      Restaurant    Risk 1 (High)   2121 S PRAIRIE AVE  CHICAGO    IL   \n",
       "4  Charter School    Risk 1 (High)  2245 N MCVICKER AVE  CHICAGO    IL   \n",
       "\n",
       "       Zip  ... Violation 37  \\\n",
       "0  60616.0  ...          NaN   \n",
       "1  60607.0  ...          NaN   \n",
       "2  60607.0  ...          NaN   \n",
       "3  60616.0  ...          NaN   \n",
       "4  60639.0  ...          NaN   \n",
       "\n",
       "                                        Violation 38 Violation 39  \\\n",
       "0                                                NaN          NaN   \n",
       "1                                                NaN          NaN   \n",
       "2                                                NaN          NaN   \n",
       "3                                                NaN          NaN   \n",
       "4  38. VENTILATION: ROOMS AND EQUIPMENT VENTED AS...          NaN   \n",
       "\n",
       "   Violation 40                                       Violation 41  \\\n",
       "0           NaN                                                NaN   \n",
       "1           NaN                                                NaN   \n",
       "2           NaN                                                NaN   \n",
       "3           NaN                                                NaN   \n",
       "4           NaN  41. PREMISES MAINTAINED FREE OF LITTER, UNNECE...   \n",
       "\n",
       "  Violation 42 Violation 43 Violation 44 Violation 45 Violation 70  \n",
       "0          NaN          NaN          NaN          NaN          NaN  \n",
       "1          NaN          NaN          NaN          NaN          NaN  \n",
       "2          NaN          NaN          NaN          NaN          NaN  \n",
       "3          NaN          NaN          NaN          NaN          NaN  \n",
       "4          NaN          NaN          NaN          NaN          NaN  \n",
       "\n",
       "[5 rows x 61 columns]"
      ]
     },
     "execution_count": 13,
     "metadata": {},
     "output_type": "execute_result"
    }
   ],
   "source": [
    "df = df.drop('Violations',axis=1)\n",
    "df.head()"
   ]
  },
  {
   "cell_type": "code",
   "execution_count": 14,
   "metadata": {},
   "outputs": [],
   "source": [
    "df.to_csv(\"../Datasets/Food_Inspections_Python_cleaned.csv\")"
   ]
  }
 ],
 "metadata": {
  "kernelspec": {
   "display_name": "Python 3.9.1 64-bit",
   "language": "python",
   "name": "python3"
  },
  "language_info": {
   "codemirror_mode": {
    "name": "ipython",
    "version": 3
   },
   "file_extension": ".py",
   "mimetype": "text/x-python",
   "name": "python",
   "nbconvert_exporter": "python",
   "pygments_lexer": "ipython3",
   "version": "3.9.1"
  },
  "orig_nbformat": 4,
  "vscode": {
   "interpreter": {
    "hash": "860d8d8003d2df05226942ceeeb211ca9b3f2e245006167d64ca641740f847d6"
   }
  }
 },
 "nbformat": 4,
 "nbformat_minor": 2
}
