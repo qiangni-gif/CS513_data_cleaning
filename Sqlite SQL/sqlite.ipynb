{
 "cells": [
  {
   "cell_type": "markdown",
   "metadata": {},
   "source": [
    "## CS513 Data Cleansining foodinspection dataset"
   ]
  },
  {
   "cell_type": "code",
   "execution_count": 1,
   "metadata": {},
   "outputs": [],
   "source": [
    "import os\n",
    "import sqlite3\n",
    "import pandas as pd\n",
    "conn = sqlite3.connect('foodinspection.db')"
   ]
  },
  {
   "cell_type": "markdown",
   "metadata": {},
   "source": [
    "### Create baseTable\n",
    "#### If a table exists, it will be dropped from the sql server database"
   ]
  },
  {
   "cell_type": "code",
   "execution_count": 2,
   "metadata": {},
   "outputs": [],
   "source": [
    "drop_table = '''\n",
    "\n",
    "DROP TABLE IF EXISTS foodinspection_table;\n",
    "\n",
    "'''\n",
    "\n",
    "create_table = '''\n",
    "\n",
    "CREATE TABLE foodinspection_table (\n",
    "Inspection_ID int(7) NOT NULL,\n",
    "DBA_Name VARCHAR(255) NOT NULL,\n",
    "AKA_Name VARCHAR(255) NULL,\n",
    "License int(7) NOT NULL,\n",
    "Facility_Type VARCHAR(255) NULL,\n",
    "Risk VARCHAR(255) NOT NULL,\n",
    "Address VARCHAR(255) NULL,\n",
    "City VARCHAR(255) NULL,\n",
    "State VARCHAR(255) NULL,\n",
    "Zip int(5) NULL,\n",
    "Inspection_Date date NULL,\n",
    "Inspection_Type VARCHAR(255) NULL,\n",
    "Results VARCHAR(255) NULL,\n",
    "latitude decimal(10,8),\n",
    "longitude decimal(10,8),\n",
    "Violation_1 VARCHAR(255) NULL,\n",
    "Violation_2 VARCHAR(255) NULL,\n",
    "Violation_3 VARCHAR(255) NULL,\n",
    "Violation_4 VARCHAR(255) NULL,\n",
    "Violation_5 VARCHAR(255) NULL,\n",
    "Violation_6 VARCHAR(255) NULL,\n",
    "Violation_7 VARCHAR(255) NULL,\n",
    "Violation_8 VARCHAR(255) NULL,\n",
    "Violation_9 VARCHAR(255) NULL,\n",
    "Violation_10 VARCHAR(255) NULL,\n",
    "Violation_11 VARCHAR(255) NULL,\n",
    "Violation_12 VARCHAR(255) NULL,\n",
    "Violation_13 VARCHAR(255) NULL,\n",
    "Violation_14 VARCHAR(255) NULL,\n",
    "Violation_15 VARCHAR(255) NULL,\n",
    "Violation_16 VARCHAR(255) NULL,\n",
    "Violation_17 VARCHAR(255) NULL,\n",
    "Violation_18 VARCHAR(255) NULL,\n",
    "Violation_19 VARCHAR(255) NULL,\n",
    "Violation_20 VARCHAR(255) NULL,\n",
    "Violation_21 VARCHAR(255) NULL,\n",
    "Violation_22 VARCHAR(255) NULL,\n",
    "Violation_23 VARCHAR(255) NULL,\n",
    "Violation_24 VARCHAR(255) NULL,\n",
    "Violation_25 VARCHAR(255) NULL,\n",
    "Violation_26 VARCHAR(255) NULL,\n",
    "Violation_27 VARCHAR(255) NULL,\n",
    "Violation_28 VARCHAR(255) NULL,\n",
    "Violation_29 VARCHAR(255) NULL,\n",
    "Violation_30 VARCHAR(255) NULL,\n",
    "Violation_31 VARCHAR(255) NULL,\n",
    "Violation_32 VARCHAR(255) NULL,\n",
    "Violation_33 VARCHAR(255) NULL,\n",
    "Violation_34 VARCHAR(255) NULL,\n",
    "Violation_35 VARCHAR(255) NULL,\n",
    "Violation_36 VARCHAR(255) NULL,\n",
    "Violation_37 VARCHAR(255) NULL,\n",
    "Violation_38 VARCHAR(255) NULL,\n",
    "Violation_39 VARCHAR(255) NULL,\n",
    "Violation_40 VARCHAR(255) NULL,\n",
    "Violation_41 VARCHAR(255) NULL,\n",
    "Violation_42 VARCHAR(255) NULL,\n",
    "Violation_43 VARCHAR(255) NULL,\n",
    "Violation_44 VARCHAR(255) NULL,\n",
    "Violation_45 VARCHAR(255) NULL,\n",
    "Violation_70 VARCHAR(255) NULL\n",
    ");\n",
    "\n",
    "'''"
   ]
  },
  {
   "cell_type": "code",
   "execution_count": 3,
   "metadata": {},
   "outputs": [],
   "source": [
    "conn.execute(drop_table)\n",
    "conn.execute(create_table)\n",
    "conn.commit()"
   ]
  },
  {
   "cell_type": "markdown",
   "metadata": {},
   "source": [
    "### Populate SQL foodinspection Table"
   ]
  },
  {
   "cell_type": "code",
   "execution_count": 4,
   "metadata": {},
   "outputs": [],
   "source": [
    "insert_table = '''\n",
    "\n",
    "INSERT INTO foodinspection_table (\n",
    "Inspection_ID,\n",
    "DBA_Name,\n",
    "AKA_Name,\n",
    "License,\n",
    "Facility_Type,\n",
    "Risk,\n",
    "Address,\n",
    "City,\n",
    "State,\n",
    "Zip,\n",
    "Inspection_Date,\n",
    "Inspection_Type,\n",
    "Results,\n",
    "latitude,\n",
    "longitude,\n",
    "Violation_1,\n",
    "Violation_2,\n",
    "Violation_3,\n",
    "Violation_4,\n",
    "Violation_5,\n",
    "Violation_6,\n",
    "Violation_7,\n",
    "Violation_8,\n",
    "Violation_9,\n",
    "Violation_10,\n",
    "Violation_11,\n",
    "Violation_12,\n",
    "Violation_13,\n",
    "Violation_14,\n",
    "Violation_15,\n",
    "Violation_16,\n",
    "Violation_17,\n",
    "Violation_18,\n",
    "Violation_19,\n",
    "Violation_20,\n",
    "Violation_21,\n",
    "Violation_22,\n",
    "Violation_23,\n",
    "Violation_24,\n",
    "Violation_25,\n",
    "Violation_26,\n",
    "Violation_27,\n",
    "Violation_28,\n",
    "Violation_29,\n",
    "Violation_30,\n",
    "Violation_31,\n",
    "Violation_32,\n",
    "Violation_33,\n",
    "Violation_34,\n",
    "Violation_35,\n",
    "Violation_36,\n",
    "Violation_37,\n",
    "Violation_38,\n",
    "Violation_39,\n",
    "Violation_40,\n",
    "Violation_41,\n",
    "Violation_42,\n",
    "Violation_43,\n",
    "Violation_44,\n",
    "Violation_45,\n",
    "Violation_70\n",
    ")\n",
    "values(?,?,?,?,?,?,?,?,?,?,?,?,?,?,?,?,?,?,?,?,?,?,?,?,?,?,?,?,?,?,?,?,?,?,?,?,?,?,?,?,?,?,?,?,?,?,?,?,?,?,?,?,?,?,?,?,?,?,?,?,?)\n",
    "\n",
    "'''"
   ]
  },
  {
   "cell_type": "code",
   "execution_count": 5,
   "metadata": {},
   "outputs": [
    {
     "name": "stderr",
     "output_type": "stream",
     "text": [
      "C:\\Users\\junyang\\AppData\\Local\\Temp\\ipykernel_19112\\1804426767.py:1: DtypeWarning: Columns (20,30,38,60) have mixed types. Specify dtype option on import or set low_memory=False.\n",
      "  df = pd.read_csv(\"../python/Food_Inspections_Python_cleaned.csv\")\n"
     ]
    }
   ],
   "source": [
    "df = pd.read_csv(\"../Datasets/Food_Inspections_Python_cleaned.csv\")\n",
    "cur = conn.cursor()\n",
    "try:\n",
    "    for index, row in df.iterrows():\n",
    "        # print(row['Inspection ID'], row['DBA Name'], row['AKA Name'], row['License #'], row['Facility Type'], row.Risk, row.Address, row.City,row.State, row.Zip, row['Inspection Date'], row['Inspection Type'], row.Results, row.Latitude, row.Longitude, row['Violation 1'], row['Violation 2'], row['Violation 3'], row['Violation 4'], row['Violation 5'], row['Violation 6'], row['Violation 7'], row['Violation 8'], row['Violation 9'], row['Violation 10'], row['Violation 11'], row['Violation 12'], row['Violation 13'], row['Violation 14'], row['Violation 15'], row['Violation 16'], row['Violation 17'], row['Violation 18'], row['Violation 19'], row['Violation 20'], row['Violation 21'], row['Violation 22'], row['Violation 23'], row['Violation 24'], row['Violation 25'], row['Violation 26'], row['Violation 27'], row['Violation 28'], row['Violation 29'], row['Violation 30'], row['Violation 31'], row['Violation 32'], row['Violation 33'], row['Violation 34'], row['Violation 35'], row['Violation 36'], row['Violation 37'], row['Violation 38'], row['Violation 39'], row['Violation 40'], row['Violation 41'], row['Violation 42'], row['Violation 43'], row['Violation 44'], row['Violation 45'], row['Violation 70'])\n",
    "        cur.execute(insert_table, (row['Inspection ID'], row['DBA Name'], row['AKA Name'], row['License #'], row['Facility Type'], row.Risk, row.Address, row.City,row.State, row.Zip, row['Inspection Date'], row['Inspection Type'], row.Results, row.Latitude, row.Longitude, row['Violation 1'], row['Violation 2'], row['Violation 3'], row['Violation 4'], row['Violation 5'], row['Violation 6'], row['Violation 7'], row['Violation 8'], row['Violation 9'], row['Violation 10'], row['Violation 11'], row['Violation 12'], row['Violation 13'], row['Violation 14'], row['Violation 15'], row['Violation 16'], row['Violation 17'], row['Violation 18'], row['Violation 19'], row['Violation 20'], row['Violation 21'], row['Violation 22'], row['Violation 23'], row['Violation 24'], row['Violation 25'], row['Violation 26'], row['Violation 27'], row['Violation 28'], row['Violation 29'], row['Violation 30'], row['Violation 31'], row['Violation 32'], row['Violation 33'], row['Violation 34'], row['Violation 35'], row['Violation 36'], row['Violation 37'], row['Violation 38'], row['Violation 39'], row['Violation 40'], row['Violation 41'], row['Violation 42'], row['Violation 43'], row['Violation 44'], row['Violation 45'], row['Violation 70']))\n",
    "except Exception as e:\n",
    "    print(\"Exception:\", e)\n",
    "\n",
    "conn.commit()\n",
    "cur.close()"
   ]
  },
  {
   "cell_type": "markdown",
   "metadata": {},
   "source": [
    "#### 1.check DBA Name, License #, latitude, longitude, risk, result all populated"
   ]
  },
  {
   "cell_type": "code",
   "execution_count": 6,
   "metadata": {},
   "outputs": [
    {
     "name": "stdout",
     "output_type": "stream",
     "text": [
      "number of row with Null DBA:  0\n",
      "number of row with Null License #:  0\n",
      "number of row with Null latitude or longitude:  0\n",
      "number of row with Null Risk:  0\n",
      "number of row with Null Results:  0\n"
     ]
    }
   ],
   "source": [
    "DBA_NULL = pd.read_sql('select * from foodinspection_table where DBA_Name is NULL', conn)\n",
    "print(\"number of row with Null DBA: \", len(DBA_NULL))\n",
    "\n",
    "License_NULL = pd.read_sql('select * from foodinspection_table where License is NULL', conn)\n",
    "print(\"number of row with Null License #: \", len(License_NULL))\n",
    "\n",
    "GPS_NULL = pd.read_sql('select * from foodinspection_table where (latitude is NULL or longitude is NULL)', conn)\n",
    "print(\"number of row with Null latitude or longitude: \", len(GPS_NULL))\n",
    "\n",
    "Risk_NULL = pd.read_sql('select * from foodinspection_table where Risk is NULL', conn)\n",
    "print(\"number of row with Null Risk: \", len(Risk_NULL))\n",
    "\n",
    "Results_NULL = pd.read_sql('select * from foodinspection_table where Results is NULL', conn)\n",
    "print(\"number of row with Null Results: \", len(Results_NULL))"
   ]
  },
  {
   "cell_type": "markdown",
   "metadata": {},
   "source": [
    "#### 2.latitude must be in [0,90] and longitude should be [-180, 180]"
   ]
  },
  {
   "cell_type": "code",
   "execution_count": 7,
   "metadata": {},
   "outputs": [
    {
     "name": "stdout",
     "output_type": "stream",
     "text": [
      "number of row with invalid geo coordinates :  0\n"
     ]
    }
   ],
   "source": [
    "CPS_check = pd.read_sql(\"select latitude,longitude from foodinspection_table where (cast(longitude as FLOAT) > 180 OR cast(longitude as FLOAT) < -180 OR cast(latitude as FLOAT) < 0 OR cast(latitude as FLOAT) > 90) OR (longitude is NULL OR latitude is NULL OR longitude = '' OR latitude = '')\",conn)\n",
    "print(\"number of row with invalid geo coordinates : \", len(CPS_check))"
   ]
  },
  {
   "cell_type": "markdown",
   "metadata": {},
   "source": [
    "#### 3.Every License number has unique address"
   ]
  },
  {
   "cell_type": "code",
   "execution_count": 8,
   "metadata": {},
   "outputs": [
    {
     "name": "stdout",
     "output_type": "stream",
     "text": [
      "     License                     Address\n",
      "0          0          4225 N CENTRAL AVE\n",
      "1    2196808      6038-6040 S PULASKI RD\n",
      "2    1574001          1060 W ADDISON AVE\n",
      "3    2320340         2700-2712 W 51ST ST\n",
      "4    1997579  6344-6348 W IRVING PARK RD\n",
      "..       ...                         ...\n",
      "579        0            13015 S ELLIS ST\n",
      "580  2008948        8750 W BRYN WAWR AVE\n",
      "581  2004238              1800 E 79TH ST\n",
      "582  1717420             1960 W 13 TH ST\n",
      "583  2009231     11919 S AVENUE O AVE FL\n",
      "\n",
      "[584 rows x 2 columns]\n"
     ]
    }
   ],
   "source": [
    "License_pair_check = pd.read_sql(\"select distinct f1.License, f1.Address from foodinspection_table as f1 inner join foodinspection_table as f2 on (f1.License = f2.License AND f1.Address != f2.Address AND f1.Inspection_ID != f2.Inspection_ID)\",conn)\n",
    "print(License_pair_check)\n",
    "# print(\"number of row with invalid License pair: \", len(License_pair_check))"
   ]
  },
  {
   "cell_type": "markdown",
   "metadata": {},
   "source": [
    "## Compare original data with cleaned data\n",
    "### Create and Populate SQL foodinspection Table from original dataset"
   ]
  },
  {
   "cell_type": "code",
   "execution_count": 9,
   "metadata": {},
   "outputs": [],
   "source": [
    "drop_table_original = '''\n",
    "\n",
    "DROP TABLE IF EXISTS foodinspection_table_original;\n",
    "\n",
    "'''\n",
    "\n",
    "create_table_original = '''\n",
    "\n",
    "CREATE TABLE foodinspection_table_original (\n",
    "Inspection_ID int(7) NOT NULL,\n",
    "DBA_Name VARCHAR(255) NULL,\n",
    "AKA_Name VARCHAR(255) NULL,\n",
    "License int(7) NULL,\n",
    "Facility_Type VARCHAR(255) NULL,\n",
    "Risk VARCHAR(255) NULL,\n",
    "Address VARCHAR(255) NULL,\n",
    "City VARCHAR(255) NULL,\n",
    "State VARCHAR(255) NULL,\n",
    "Zip int(5) NULL,\n",
    "Inspection_Date date NULL,\n",
    "Inspection_Type VARCHAR(255) NULL,\n",
    "Results VARCHAR(255) NULL,\n",
    "Violations VARCHAR(255) NULL,\n",
    "latitude decimal(10,8),\n",
    "longitude decimal(10,8),\n",
    "Location VARCHAR(255) NULL\n",
    ");\n",
    "\n",
    "'''\n",
    "\n",
    "insert_table_original = '''\n",
    "\n",
    "INSERT INTO foodinspection_table_original (\n",
    "Inspection_ID,\n",
    "DBA_Name,\n",
    "AKA_Name,\n",
    "License,\n",
    "Facility_Type,\n",
    "Risk,\n",
    "Address,\n",
    "City,\n",
    "State,\n",
    "Zip,\n",
    "Inspection_Date,\n",
    "Inspection_Type,\n",
    "Results,\n",
    "Violations,\n",
    "latitude,\n",
    "longitude,\n",
    "Location\n",
    ")\n",
    "values(?,?,?,?,?,?,?,?,?,?,?,?,?,?,?,?,?)\n",
    "\n",
    "'''"
   ]
  },
  {
   "cell_type": "code",
   "execution_count": 10,
   "metadata": {},
   "outputs": [],
   "source": [
    "conn.execute(drop_table_original)\n",
    "conn.execute(create_table_original)\n",
    "conn.commit()"
   ]
  },
  {
   "cell_type": "code",
   "execution_count": 11,
   "metadata": {},
   "outputs": [],
   "source": [
    "df_original = pd.read_csv(\"../Datasets/Food_Inspections.csv\")\n",
    "cur = conn.cursor()\n",
    "try:\n",
    "    for index, row in df_original.iterrows():\n",
    "        # print(row['Inspection ID'], row['DBA Name'], row['AKA Name'], row['License #'], row['Facility Type'], row.Risk, row.Address, row.City,row.State, row.Zip, row['Inspection Date'], row['Inspection Type'], row.Results, row.Violations, row.Latitude, row.Longitude, row.Location)\n",
    "        cur.execute(insert_table_original, (row['Inspection ID'], row['DBA Name'], row['AKA Name'], row['License #'], row['Facility Type'], row.Risk, row.Address, row.City,row.State, row.Zip, row['Inspection Date'], row['Inspection Type'], row.Results, row.Violations, row.Latitude, row.Longitude, row.Location))\n",
    "except Exception as e:\n",
    "    print(\"Exception:\", e)\n",
    "\n",
    "conn.commit()\n",
    "cur.close()"
   ]
  },
  {
   "cell_type": "code",
   "execution_count": 26,
   "metadata": {},
   "outputs": [
    {
     "name": "stdout",
     "output_type": "stream",
     "text": [
      "number of Church Kitchen in Chicago have pass the food inspection:  16\n"
     ]
    }
   ],
   "source": [
    "u1 = pd.read_sql(\"select * from foodinspection_table where (Facility_Type == 'Church Kitchen' AND City == 'CHICAGO' AND Results == 'Pass')\",conn)\n",
    "print(\"number of Church Kitchen in Chicago have pass the food inspection: \", len(u1))"
   ]
  },
  {
   "cell_type": "code",
   "execution_count": 27,
   "metadata": {},
   "outputs": [
    {
     "name": "stdout",
     "output_type": "stream",
     "text": [
      "number of Church Kitchen in Chicago have pass the food inspection:  3\n"
     ]
    }
   ],
   "source": [
    "u1_original = pd.read_sql(\"select * from foodinspection_table_original where (Facility_Type == 'Church Kitchen' AND City == 'CHICAGO' AND Results == 'Pass')\",conn)\n",
    "print(\"number of Church Kitchen in Chicago have pass the food inspection: \", len(u1_original))"
   ]
  },
  {
   "cell_type": "code",
   "execution_count": 28,
   "metadata": {},
   "outputs": [
    {
     "name": "stdout",
     "output_type": "stream",
     "text": [
      "number of MCDONALD'S have High Risk:  67\n"
     ]
    }
   ],
   "source": [
    "u1 = pd.read_sql('''select * from foodinspection_table where (DBA_Name == \"MCDONALD'S\" AND Risk == \"Risk 1 (High)\")''',conn)\n",
    "print(\"number of MCDONALD'S have High Risk: \", len(u1))"
   ]
  },
  {
   "cell_type": "code",
   "execution_count": 29,
   "metadata": {},
   "outputs": [
    {
     "name": "stdout",
     "output_type": "stream",
     "text": [
      "number of MCDONALD'S have High Risk:  36\n"
     ]
    }
   ],
   "source": [
    "u1_original = pd.read_sql('''select * from foodinspection_table_original where (DBA_Name == \"MCDONALD'S\" AND Risk == \"Risk 1 (High)\")''',conn)\n",
    "print(\"number of MCDONALD'S have High Risk: \", len(u1_original))"
   ]
  }
 ],
 "metadata": {
  "kernelspec": {
   "display_name": "Python 3.9.1 64-bit",
   "language": "python",
   "name": "python3"
  },
  "language_info": {
   "codemirror_mode": {
    "name": "ipython",
    "version": 3
   },
   "file_extension": ".py",
   "mimetype": "text/x-python",
   "name": "python",
   "nbconvert_exporter": "python",
   "pygments_lexer": "ipython3",
   "version": "3.9.1"
  },
  "orig_nbformat": 4,
  "vscode": {
   "interpreter": {
    "hash": "860d8d8003d2df05226942ceeeb211ca9b3f2e245006167d64ca641740f847d6"
   }
  }
 },
 "nbformat": 4,
 "nbformat_minor": 2
}
